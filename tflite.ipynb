{
 "cells": [
  {
   "cell_type": "code",
   "execution_count": 2,
   "metadata": {},
   "outputs": [],
   "source": [
    "import numpy as np\n",
    "import tensorflow as tf\n"
   ]
  },
  {
   "cell_type": "code",
   "execution_count": 3,
   "metadata": {},
   "outputs": [
    {
     "name": "stderr",
     "output_type": "stream",
     "text": [
      "c:\\Users\\Jerry\\AppData\\Local\\Programs\\Python\\Python310\\lib\\site-packages\\tqdm\\auto.py:22: TqdmWarning: IProgress not found. Please update jupyter and ipywidgets. See https://ipywidgets.readthedocs.io/en/stable/user_install.html\n",
      "  from .autonotebook import tqdm as notebook_tqdm\n"
     ]
    }
   ],
   "source": [
    "from transformers import BertTokenizer, TFBertModel, BertConfig,TFDistilBertModel,DistilBertTokenizer,DistilBertConfig"
   ]
  },
  {
   "cell_type": "code",
   "execution_count": 4,
   "metadata": {},
   "outputs": [],
   "source": [
    "dbert_tokenizer = DistilBertTokenizer.from_pretrained('distilbert-base-uncased')"
   ]
  },
  {
   "cell_type": "code",
   "execution_count": 5,
   "metadata": {},
   "outputs": [],
   "source": [
    "interpreter = tf.lite.Interpreter(model_path=\"distilbert_slim_model.tflite\")\n",
    "interpreter.allocate_tensors()"
   ]
  },
  {
   "cell_type": "code",
   "execution_count": 6,
   "metadata": {},
   "outputs": [],
   "source": [
    "input_details = interpreter.get_input_details()\n",
    "output_details = interpreter.get_output_details()"
   ]
  },
  {
   "cell_type": "code",
   "execution_count": null,
   "metadata": {},
   "outputs": [],
   "source": []
  },
  {
   "cell_type": "code",
   "execution_count": 7,
   "metadata": {},
   "outputs": [],
   "source": [
    "def a(tokens):\n",
    "    mask = []\n",
    "    for i in tokens:\n",
    "        if(i==0):\n",
    "            mask.append(0)\n",
    "        else:\n",
    "            mask.append(1)\n",
    "    return np.array([mask],dtype=np.int64)"
   ]
  },
  {
   "cell_type": "code",
   "execution_count": 10,
   "metadata": {},
   "outputs": [
    {
     "name": "stderr",
     "output_type": "stream",
     "text": [
      "c:\\Users\\Jerry\\AppData\\Local\\Programs\\Python\\Python310\\lib\\site-packages\\transformers\\tokenization_utils_base.py:2377: FutureWarning: The `pad_to_max_length` argument is deprecated and will be removed in a future version, use `padding=True` or `padding='longest'` to pad to the longest sequence in the batch, or use `padding='max_length'` to pad to a max length. In this case, you can give a specific length with `max_length` (e.g. `max_length=45`) or leave max_length to None to pad to the maximal input size of the model (e.g. 512 for Bert).\n",
      "  warnings.warn(\n"
     ]
    },
    {
     "ename": "TypeError",
     "evalue": "as_dtype() got multiple values for argument 'type_value'",
     "output_type": "error",
     "traceback": [
      "\u001b[1;31m---------------------------------------------------------------------------\u001b[0m",
      "\u001b[1;31mTypeError\u001b[0m                                 Traceback (most recent call last)",
      "\u001b[1;32mc:\\Users\\Jerry\\Desktop\\AllApps\\Work\\Listster\\NLP\\tflite.ipynb Cell 8\u001b[0m in \u001b[0;36m7\n\u001b[0;32m      <a href='vscode-notebook-cell:/c%3A/Users/Jerry/Desktop/AllApps/Work/Listster/NLP/tflite.ipynb#X10sZmlsZQ%3D%3D?line=4'>5</a>\u001b[0m input_list\u001b[39m.\u001b[39mappend(dbert_inps[\u001b[39m'\u001b[39m\u001b[39minput_ids\u001b[39m\u001b[39m'\u001b[39m])\n\u001b[0;32m      <a href='vscode-notebook-cell:/c%3A/Users/Jerry/Desktop/AllApps/Work/Listster/NLP/tflite.ipynb#X10sZmlsZQ%3D%3D?line=5'>6</a>\u001b[0m mask_list\u001b[39m.\u001b[39mappend(dbert_inps[\u001b[39m'\u001b[39m\u001b[39mattention_mask\u001b[39m\u001b[39m'\u001b[39m])\n\u001b[1;32m----> <a href='vscode-notebook-cell:/c%3A/Users/Jerry/Desktop/AllApps/Work/Listster/NLP/tflite.ipynb#X10sZmlsZQ%3D%3D?line=6'>7</a>\u001b[0m input_id \u001b[39m=\u001b[39m tf\u001b[39m.\u001b[39;49mas_dtype(input_list,type_value\u001b[39m=\u001b[39;49mtf\u001b[39m.\u001b[39;49mint64)\n\u001b[0;32m      <a href='vscode-notebook-cell:/c%3A/Users/Jerry/Desktop/AllApps/Work/Listster/NLP/tflite.ipynb#X10sZmlsZQ%3D%3D?line=7'>8</a>\u001b[0m \u001b[39m# input_id = np.array(input_list,dtype=tf.int64)\u001b[39;00m\n\u001b[0;32m      <a href='vscode-notebook-cell:/c%3A/Users/Jerry/Desktop/AllApps/Work/Listster/NLP/tflite.ipynb#X10sZmlsZQ%3D%3D?line=8'>9</a>\u001b[0m \u001b[39m# mask = np.array(mask_list,dtype=tf.int64)\u001b[39;00m\n\u001b[0;32m     <a href='vscode-notebook-cell:/c%3A/Users/Jerry/Desktop/AllApps/Work/Listster/NLP/tflite.ipynb#X10sZmlsZQ%3D%3D?line=9'>10</a>\u001b[0m mask \u001b[39m=\u001b[39m tf\u001b[39m.\u001b[39mas_dtype(input_list,type_value\u001b[39m=\u001b[39mtf\u001b[39m.\u001b[39mint64)\n",
      "\u001b[1;31mTypeError\u001b[0m: as_dtype() got multiple values for argument 'type_value'"
     ]
    }
   ],
   "source": [
    "string = input()\n",
    "input_list = []\n",
    "mask_list=[]\n",
    "dbert_inps=dbert_tokenizer.encode_plus(string,add_special_tokens = True,max_length =256,pad_to_max_length = True,return_attention_mask = True,truncation=True)\n",
    "input_list.append(dbert_inps['input_ids'])\n",
    "mask_list.append(dbert_inps['attention_mask'])\n",
    "input_id = tf.as_dtype(input_list,type_value=tf.int64)\n",
    "input_id = np.array(input_list,dtype=tf.int64)\n",
    "mask = np.array(mask_list,dtype=tf.int64)\n",
    "# mask = tf.as_dtype(input_list,type_value=tf.int64)\n",
    "# input_shape = input_details[0]['shape']\n",
    "# input_data = np.array(np.random.random_sample(input_shape), dtype=np.int64)\n",
    "# inputs = np.array(np.random.random_integers(5000,size=input_shape).tolist(), dtype=np.int64)\n",
    "# mask = a(input_data[0])\n",
    "interpreter.set_tensor(input_details[0]['index'], input_id)\n",
    "interpreter.set_tensor(input_details[1]['index'], mask)\n",
    "interpreter.invoke()\n",
    "# The function `get_tensor()` returns a copy of the tensor data.\n",
    "# Use `tensor()` in order to get a pointer to the tensor.\n",
    "output_data = interpreter.get_tensor(output_details[0]['index'])\n",
    "print(np.argmax(output_data))"
   ]
  },
  {
   "cell_type": "code",
   "execution_count": null,
   "metadata": {},
   "outputs": [],
   "source": []
  }
 ],
 "metadata": {
  "kernelspec": {
   "display_name": "Python 3",
   "language": "python",
   "name": "python3"
  },
  "language_info": {
   "codemirror_mode": {
    "name": "ipython",
    "version": 3
   },
   "file_extension": ".py",
   "mimetype": "text/x-python",
   "name": "python",
   "nbconvert_exporter": "python",
   "pygments_lexer": "ipython3",
   "version": "3.10.5"
  },
  "orig_nbformat": 4
 },
 "nbformat": 4,
 "nbformat_minor": 2
}
